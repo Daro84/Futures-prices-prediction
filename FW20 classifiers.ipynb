{
 "cells": [
  {
   "cell_type": "markdown",
   "metadata": {},
   "source": [
    "# Futures price prediction with classifiers "
   ]
  },
  {
   "cell_type": "markdown",
   "metadata": {},
   "source": [
    "The idea of the analysis is to check whether classification algorithms could be useful in FW20 futures price predictions.\n",
    "Algorithms used in the analysis:\n",
    "- Logistic Regression\n",
    "- Support Vector Classifier\n",
    "- K-Nearest Neighbors\n",
    "- Random Forest Classifier\n",
    "- Ada Boost Classifier (with Decision Trees)\n",
    "- Voting Classifier\n",
    "\n",
    "Dependent variable:\n",
    "- Price change in the current day (D) - from open to close (0 for downtrend, 1 for uptrend)\n",
    "\n",
    "Predictors:\n",
    "- Rate of return (%) in the previous day (D-1),\n",
    "- Change in volume (%) in the previous day (D-1),\n",
    "- Change in open interest (%) in the previous day (D-1).\n",
    "\n",
    "Validation dataset consists of previous 2000 sessions. For each algorithm 2000 models have been trained, based on data from previous 1000 sessions. Each model has only one session in test set (that comes after training dataset). Efficiency of algorithms is evaluated by accuracy measure (true positives + true negatives / sum of predictions). However, there are also results of profit/loss (in points) printed for each model. In this approch we can consider each algorithm as a simple trading system, in which buy/short sell signals are generated at the opening of each session."
   ]
  },
  {
   "cell_type": "code",
   "execution_count": 1,
   "metadata": {},
   "outputs": [],
   "source": [
    "import pandas as pd\n",
    "import numpy as np\n",
    "from sklearn.preprocessing import StandardScaler\n",
    "from sklearn.linear_model import LogisticRegression\n",
    "from sklearn.model_selection import GridSearchCV\n",
    "from sklearn.svm import SVC\n",
    "from sklearn.neighbors import KNeighborsClassifier\n",
    "from sklearn.tree import DecisionTreeClassifier\n",
    "from sklearn.ensemble import RandomForestClassifier, AdaBoostClassifier, VotingClassifier"
   ]
  },
  {
   "cell_type": "code",
   "execution_count": 2,
   "metadata": {},
   "outputs": [],
   "source": [
    "import warnings\n",
    "warnings.filterwarnings('ignore')"
   ]
  },
  {
   "cell_type": "code",
   "execution_count": 3,
   "metadata": {},
   "outputs": [],
   "source": [
    "data_fw20 = pd.read_excel('stocks_data/FW20.xlsx', index_col='Data')"
   ]
  },
  {
   "cell_type": "code",
   "execution_count": 4,
   "metadata": {},
   "outputs": [],
   "source": [
    "data_fw20.rename(columns={\"FW20_Otwarcie\":\"Open\", \"FW20_Zamkniecie\":\"Close\", \n",
    "                          \"FW20_Wolumen\":\"Volume\", \"FW20_LOP\":\"OpenInt\"}, inplace=True)"
   ]
  },
  {
   "cell_type": "code",
   "execution_count": 5,
   "metadata": {},
   "outputs": [
    {
     "data": {
      "text/html": [
       "<div>\n",
       "<style scoped>\n",
       "    .dataframe tbody tr th:only-of-type {\n",
       "        vertical-align: middle;\n",
       "    }\n",
       "\n",
       "    .dataframe tbody tr th {\n",
       "        vertical-align: top;\n",
       "    }\n",
       "\n",
       "    .dataframe thead th {\n",
       "        text-align: right;\n",
       "    }\n",
       "</style>\n",
       "<table border=\"1\" class=\"dataframe\">\n",
       "  <thead>\n",
       "    <tr style=\"text-align: right;\">\n",
       "      <th></th>\n",
       "      <th>Open</th>\n",
       "      <th>Close</th>\n",
       "      <th>Volume</th>\n",
       "      <th>OpenInt</th>\n",
       "    </tr>\n",
       "    <tr>\n",
       "      <th>Data</th>\n",
       "      <th></th>\n",
       "      <th></th>\n",
       "      <th></th>\n",
       "      <th></th>\n",
       "    </tr>\n",
       "  </thead>\n",
       "  <tbody>\n",
       "    <tr>\n",
       "      <th>2000-01-03</th>\n",
       "      <td>1937</td>\n",
       "      <td>1920</td>\n",
       "      <td>4070</td>\n",
       "      <td>4955.0</td>\n",
       "    </tr>\n",
       "    <tr>\n",
       "      <th>2000-01-04</th>\n",
       "      <td>1865</td>\n",
       "      <td>1847</td>\n",
       "      <td>4255</td>\n",
       "      <td>4936.0</td>\n",
       "    </tr>\n",
       "    <tr>\n",
       "      <th>2000-01-05</th>\n",
       "      <td>1827</td>\n",
       "      <td>1811</td>\n",
       "      <td>5172</td>\n",
       "      <td>4694.0</td>\n",
       "    </tr>\n",
       "    <tr>\n",
       "      <th>2000-01-06</th>\n",
       "      <td>1802</td>\n",
       "      <td>1848</td>\n",
       "      <td>5220</td>\n",
       "      <td>4801.0</td>\n",
       "    </tr>\n",
       "    <tr>\n",
       "      <th>2000-01-07</th>\n",
       "      <td>1936</td>\n",
       "      <td>1982</td>\n",
       "      <td>5671</td>\n",
       "      <td>4918.0</td>\n",
       "    </tr>\n",
       "  </tbody>\n",
       "</table>\n",
       "</div>"
      ],
      "text/plain": [
       "            Open  Close  Volume  OpenInt\n",
       "Data                                    \n",
       "2000-01-03  1937   1920    4070   4955.0\n",
       "2000-01-04  1865   1847    4255   4936.0\n",
       "2000-01-05  1827   1811    5172   4694.0\n",
       "2000-01-06  1802   1848    5220   4801.0\n",
       "2000-01-07  1936   1982    5671   4918.0"
      ]
     },
     "execution_count": 5,
     "metadata": {},
     "output_type": "execute_result"
    }
   ],
   "source": [
    "data_fw20.head()"
   ]
  },
  {
   "cell_type": "markdown",
   "metadata": {},
   "source": [
    "## Data preprocessing"
   ]
  },
  {
   "cell_type": "markdown",
   "metadata": {},
   "source": [
    "Create function that computes changes in values (%) for specified columns for the previous day (change from D-2 to D-1)."
   ]
  },
  {
   "cell_type": "code",
   "execution_count": 6,
   "metadata": {},
   "outputs": [],
   "source": [
    "def change_previous_day(*args):\n",
    "    for arg in args:\n",
    "        data_fw20[arg +'_ret_-1'] = (data_fw20[arg].shift(periods=1) / \n",
    "                                      data_fw20[arg].shift(periods=2)-1)*100"
   ]
  },
  {
   "cell_type": "markdown",
   "metadata": {},
   "source": [
    "Apply change_previous_day() function to columns: Close, Volume and OpenInterest"
   ]
  },
  {
   "cell_type": "code",
   "execution_count": 7,
   "metadata": {},
   "outputs": [],
   "source": [
    "change_previous_day('Close', 'Volume', 'OpenInt')"
   ]
  },
  {
   "cell_type": "code",
   "execution_count": 8,
   "metadata": {},
   "outputs": [
    {
     "data": {
      "text/html": [
       "<div>\n",
       "<style scoped>\n",
       "    .dataframe tbody tr th:only-of-type {\n",
       "        vertical-align: middle;\n",
       "    }\n",
       "\n",
       "    .dataframe tbody tr th {\n",
       "        vertical-align: top;\n",
       "    }\n",
       "\n",
       "    .dataframe thead th {\n",
       "        text-align: right;\n",
       "    }\n",
       "</style>\n",
       "<table border=\"1\" class=\"dataframe\">\n",
       "  <thead>\n",
       "    <tr style=\"text-align: right;\">\n",
       "      <th></th>\n",
       "      <th>Open</th>\n",
       "      <th>Close</th>\n",
       "      <th>Volume</th>\n",
       "      <th>OpenInt</th>\n",
       "      <th>Close_ret_-1</th>\n",
       "      <th>Volume_ret_-1</th>\n",
       "      <th>OpenInt_ret_-1</th>\n",
       "    </tr>\n",
       "    <tr>\n",
       "      <th>Data</th>\n",
       "      <th></th>\n",
       "      <th></th>\n",
       "      <th></th>\n",
       "      <th></th>\n",
       "      <th></th>\n",
       "      <th></th>\n",
       "      <th></th>\n",
       "    </tr>\n",
       "  </thead>\n",
       "  <tbody>\n",
       "    <tr>\n",
       "      <th>2018-12-19</th>\n",
       "      <td>2317</td>\n",
       "      <td>2350</td>\n",
       "      <td>39377</td>\n",
       "      <td>60337.0</td>\n",
       "      <td>1.577564</td>\n",
       "      <td>57.106927</td>\n",
       "      <td>3.689072</td>\n",
       "    </tr>\n",
       "    <tr>\n",
       "      <th>2018-12-20</th>\n",
       "      <td>2330</td>\n",
       "      <td>2320</td>\n",
       "      <td>41267</td>\n",
       "      <td>54762.0</td>\n",
       "      <td>1.380500</td>\n",
       "      <td>-9.946028</td>\n",
       "      <td>6.429479</td>\n",
       "    </tr>\n",
       "    <tr>\n",
       "      <th>2018-12-21</th>\n",
       "      <td>2313</td>\n",
       "      <td>2275</td>\n",
       "      <td>32056</td>\n",
       "      <td>56332.0</td>\n",
       "      <td>-1.276596</td>\n",
       "      <td>4.799756</td>\n",
       "      <td>-9.239770</td>\n",
       "    </tr>\n",
       "    <tr>\n",
       "      <th>2018-12-27</th>\n",
       "      <td>2295</td>\n",
       "      <td>2255</td>\n",
       "      <td>16556</td>\n",
       "      <td>48047.0</td>\n",
       "      <td>-1.939655</td>\n",
       "      <td>-22.320498</td>\n",
       "      <td>2.866952</td>\n",
       "    </tr>\n",
       "    <tr>\n",
       "      <th>2018-12-28</th>\n",
       "      <td>2262</td>\n",
       "      <td>2278</td>\n",
       "      <td>11235</td>\n",
       "      <td>47229.0</td>\n",
       "      <td>-0.879121</td>\n",
       "      <td>-48.352882</td>\n",
       "      <td>-14.707449</td>\n",
       "    </tr>\n",
       "  </tbody>\n",
       "</table>\n",
       "</div>"
      ],
      "text/plain": [
       "            Open  Close  Volume  OpenInt  Close_ret_-1  Volume_ret_-1  \\\n",
       "Data                                                                    \n",
       "2018-12-19  2317   2350   39377  60337.0      1.577564      57.106927   \n",
       "2018-12-20  2330   2320   41267  54762.0      1.380500      -9.946028   \n",
       "2018-12-21  2313   2275   32056  56332.0     -1.276596       4.799756   \n",
       "2018-12-27  2295   2255   16556  48047.0     -1.939655     -22.320498   \n",
       "2018-12-28  2262   2278   11235  47229.0     -0.879121     -48.352882   \n",
       "\n",
       "            OpenInt_ret_-1  \n",
       "Data                        \n",
       "2018-12-19        3.689072  \n",
       "2018-12-20        6.429479  \n",
       "2018-12-21       -9.239770  \n",
       "2018-12-27        2.866952  \n",
       "2018-12-28      -14.707449  "
      ]
     },
     "execution_count": 8,
     "metadata": {},
     "output_type": "execute_result"
    }
   ],
   "source": [
    "data_fw20.tail()"
   ]
  },
  {
   "cell_type": "markdown",
   "metadata": {},
   "source": [
    "Create column with direction (change from Open to Close in current day): 1 for uptrend, 0 for downtrend"
   ]
  },
  {
   "cell_type": "code",
   "execution_count": 9,
   "metadata": {},
   "outputs": [],
   "source": [
    "data_fw20['FW20_dir_o_c'] = np.where(data_fw20['Close'] > data_fw20['Open'], 1, 0)"
   ]
  },
  {
   "cell_type": "markdown",
   "metadata": {},
   "source": [
    "Create final set of data for analysis"
   ]
  },
  {
   "cell_type": "code",
   "execution_count": 10,
   "metadata": {},
   "outputs": [],
   "source": [
    "data_fw20_all = data_fw20[['Open','Close','Close_ret_-1','Volume_ret_-1','OpenInt_ret_-1','FW20_dir_o_c']]"
   ]
  },
  {
   "cell_type": "markdown",
   "metadata": {},
   "source": [
    "Drop few columns with missing data"
   ]
  },
  {
   "cell_type": "code",
   "execution_count": 11,
   "metadata": {},
   "outputs": [],
   "source": [
    "data_fw20_all.dropna(inplace=True)"
   ]
  },
  {
   "cell_type": "markdown",
   "metadata": {},
   "source": [
    "Shape of dataframe and names of columns"
   ]
  },
  {
   "cell_type": "code",
   "execution_count": 12,
   "metadata": {},
   "outputs": [
    {
     "data": {
      "text/plain": [
       "(4751, 6)"
      ]
     },
     "execution_count": 12,
     "metadata": {},
     "output_type": "execute_result"
    }
   ],
   "source": [
    "data_fw20_all.shape"
   ]
  },
  {
   "cell_type": "code",
   "execution_count": 13,
   "metadata": {},
   "outputs": [
    {
     "data": {
      "text/plain": [
       "Index(['Open', 'Close', 'Close_ret_-1', 'Volume_ret_-1', 'OpenInt_ret_-1',\n",
       "       'FW20_dir_o_c'],\n",
       "      dtype='object')"
      ]
     },
     "execution_count": 13,
     "metadata": {},
     "output_type": "execute_result"
    }
   ],
   "source": [
    "data_fw20_all.columns"
   ]
  },
  {
   "cell_type": "code",
   "execution_count": 14,
   "metadata": {},
   "outputs": [
    {
     "data": {
      "text/html": [
       "<div>\n",
       "<style scoped>\n",
       "    .dataframe tbody tr th:only-of-type {\n",
       "        vertical-align: middle;\n",
       "    }\n",
       "\n",
       "    .dataframe tbody tr th {\n",
       "        vertical-align: top;\n",
       "    }\n",
       "\n",
       "    .dataframe thead th {\n",
       "        text-align: right;\n",
       "    }\n",
       "</style>\n",
       "<table border=\"1\" class=\"dataframe\">\n",
       "  <thead>\n",
       "    <tr style=\"text-align: right;\">\n",
       "      <th></th>\n",
       "      <th>Open</th>\n",
       "      <th>Close</th>\n",
       "      <th>Close_ret_-1</th>\n",
       "      <th>Volume_ret_-1</th>\n",
       "      <th>OpenInt_ret_-1</th>\n",
       "      <th>FW20_dir_o_c</th>\n",
       "    </tr>\n",
       "    <tr>\n",
       "      <th>Data</th>\n",
       "      <th></th>\n",
       "      <th></th>\n",
       "      <th></th>\n",
       "      <th></th>\n",
       "      <th></th>\n",
       "      <th></th>\n",
       "    </tr>\n",
       "  </thead>\n",
       "  <tbody>\n",
       "    <tr>\n",
       "      <th>2018-12-19</th>\n",
       "      <td>2317</td>\n",
       "      <td>2350</td>\n",
       "      <td>1.577564</td>\n",
       "      <td>57.106927</td>\n",
       "      <td>3.689072</td>\n",
       "      <td>1</td>\n",
       "    </tr>\n",
       "    <tr>\n",
       "      <th>2018-12-20</th>\n",
       "      <td>2330</td>\n",
       "      <td>2320</td>\n",
       "      <td>1.380500</td>\n",
       "      <td>-9.946028</td>\n",
       "      <td>6.429479</td>\n",
       "      <td>0</td>\n",
       "    </tr>\n",
       "    <tr>\n",
       "      <th>2018-12-21</th>\n",
       "      <td>2313</td>\n",
       "      <td>2275</td>\n",
       "      <td>-1.276596</td>\n",
       "      <td>4.799756</td>\n",
       "      <td>-9.239770</td>\n",
       "      <td>0</td>\n",
       "    </tr>\n",
       "    <tr>\n",
       "      <th>2018-12-27</th>\n",
       "      <td>2295</td>\n",
       "      <td>2255</td>\n",
       "      <td>-1.939655</td>\n",
       "      <td>-22.320498</td>\n",
       "      <td>2.866952</td>\n",
       "      <td>0</td>\n",
       "    </tr>\n",
       "    <tr>\n",
       "      <th>2018-12-28</th>\n",
       "      <td>2262</td>\n",
       "      <td>2278</td>\n",
       "      <td>-0.879121</td>\n",
       "      <td>-48.352882</td>\n",
       "      <td>-14.707449</td>\n",
       "      <td>1</td>\n",
       "    </tr>\n",
       "  </tbody>\n",
       "</table>\n",
       "</div>"
      ],
      "text/plain": [
       "            Open  Close  Close_ret_-1  Volume_ret_-1  OpenInt_ret_-1  \\\n",
       "Data                                                                   \n",
       "2018-12-19  2317   2350      1.577564      57.106927        3.689072   \n",
       "2018-12-20  2330   2320      1.380500      -9.946028        6.429479   \n",
       "2018-12-21  2313   2275     -1.276596       4.799756       -9.239770   \n",
       "2018-12-27  2295   2255     -1.939655     -22.320498        2.866952   \n",
       "2018-12-28  2262   2278     -0.879121     -48.352882      -14.707449   \n",
       "\n",
       "            FW20_dir_o_c  \n",
       "Data                      \n",
       "2018-12-19             1  \n",
       "2018-12-20             0  \n",
       "2018-12-21             0  \n",
       "2018-12-27             0  \n",
       "2018-12-28             1  "
      ]
     },
     "execution_count": 14,
     "metadata": {},
     "output_type": "execute_result"
    }
   ],
   "source": [
    "data_fw20_all.tail()"
   ]
  },
  {
   "cell_type": "markdown",
   "metadata": {},
   "source": [
    "## Analysis"
   ]
  },
  {
   "cell_type": "markdown",
   "metadata": {},
   "source": [
    "For each model there is loop testing xxx datasets - results are collected in a lists and finally a summary with accuracy and results (in pts.) is printed."
   ]
  },
  {
   "cell_type": "markdown",
   "metadata": {},
   "source": [
    "### 1. Logistic regression"
   ]
  },
  {
   "cell_type": "markdown",
   "metadata": {},
   "source": [
    "Increase of regularization (by reducing 'C' parameter to 0,001) resulted in better accuracy compared to default parameters."
   ]
  },
  {
   "cell_type": "code",
   "execution_count": 15,
   "metadata": {},
   "outputs": [
    {
     "name": "stdout",
     "output_type": "stream",
     "text": [
      "Model summary\n",
      "Accuracy: 0.534\n",
      "Result (pts.): 2366.0\n",
      "Average result per 1 session: 1.183\n",
      "****************************************************************************************************\n"
     ]
    }
   ],
   "source": [
    "train_period = 1000\n",
    "test_period = 2000\n",
    "date, predictions, y_actual, pred_proba, results = [], [], [], [], []\n",
    "model = LogisticRegression(C=0.001)\n",
    "\n",
    "for t in range(test_period):\n",
    "    X_train = data_fw20_all.iloc[(-train_period - t - 1) : (-t - 1)][['Close_ret_-1', 'Volume_ret_-1', \n",
    "                                                                      'OpenInt_ret_-1']]\n",
    "    y_train = data_fw20_all.iloc[(-train_period - t - 1) : (-t - 1)][['FW20_dir_o_c']]\n",
    "    X_test = data_fw20_all.iloc[-t - 1][['Close_ret_-1', 'Volume_ret_-1', 'OpenInt_ret_-1']]\n",
    "    y_test = data_fw20_all.iloc[-t - 1]['FW20_dir_o_c']\n",
    "    \n",
    "    model.fit(X_train, y_train)\n",
    "    prediction = model.predict(np.array(X_test).reshape(1,-1))\n",
    "    prediction_proba = model.predict_proba(np.array(X_test).reshape(1,-1))\n",
    "    date.append(np.datetime64(data_fw20_all.index[-t -1], 'D'))\n",
    "    y_actual.append(int(y_test))\n",
    "    predictions.append(prediction[0])\n",
    "    pred_proba.append(prediction_proba)\n",
    "    \n",
    "    result = abs(data_fw20_all.iloc[-t - 1]['Close'] - data_fw20_all.iloc[-t - 1]['Open'])\n",
    "    results.append(result if y_test == prediction else -result)\n",
    "\n",
    "accuracy = 0\n",
    "for i in range(len(predictions)):\n",
    "    if y_actual[i] == predictions[i]:\n",
    "        accuracy+=1\n",
    "print('Model summary')\n",
    "print('Accuracy: {}'.format(round(accuracy / len(predictions),4)))\n",
    "print('Result (pts.): {}'.format(sum(results)))\n",
    "print('Average result per 1 session: {}'.format(sum(results) / test_period))\n",
    "print('*'*100)\n",
    "\n",
    "# for i in range(len(predictions)):\n",
    "#     print(date[i], '\\t', 'actual:', y_actual[i], predictions[i], ':prediction', 'preds_proba:', pred_proba[i],\n",
    "#          '\\t', 'result:', results[i])"
   ]
  },
  {
   "cell_type": "markdown",
   "metadata": {},
   "source": [
    "### 2. Support Vector Classification"
   ]
  },
  {
   "cell_type": "markdown",
   "metadata": {},
   "source": [
    "Increase of regularization resulted in slightly better accuracy compared to default parameters, but all of predictions were one-way - indicating downtrend (0). Hence, no regularization was applied.\n",
    "SVM Classifier requires rescaling of the data (with StandardScaler, separately for each training dataset) "
   ]
  },
  {
   "cell_type": "code",
   "execution_count": 16,
   "metadata": {},
   "outputs": [
    {
     "name": "stdout",
     "output_type": "stream",
     "text": [
      "Model summary\n",
      "Accuracy: 0.5315\n",
      "Result (pts.): 1758.0\n",
      "Average result per 1 session: 0.879\n",
      "****************************************************************************************************\n"
     ]
    }
   ],
   "source": [
    "train_period = 1000\n",
    "test_period = 2000\n",
    "date, predictions, y_actual, results = [], [], [], []\n",
    "model = SVC()\n",
    "scaler = StandardScaler()\n",
    "\n",
    "for t in range(test_period):\n",
    "    X_train = data_fw20_all.iloc[(-train_period - t - 1) : (-t - 1)][['Close_ret_-1', 'Volume_ret_-1', \n",
    "                                                                      'OpenInt_ret_-1']]\n",
    "    y_train = data_fw20_all.iloc[(-train_period - t - 1) : (-t - 1)][['FW20_dir_o_c']]\n",
    "    X_test = data_fw20_all.iloc[-t - 1][['Close_ret_-1', 'Volume_ret_-1', 'OpenInt_ret_-1']]\n",
    "    y_test = data_fw20_all.iloc[-t - 1]['FW20_dir_o_c']\n",
    "    \n",
    "    X_train_sc = scaler.fit_transform(X_train)\n",
    "    X_test_sc = scaler.transform(np.array(X_test).reshape(1,-1))\n",
    "    \n",
    "    model.fit(X_train_sc, y_train)\n",
    "    prediction = model.predict(np.array(X_test_sc).reshape(1,-1))\n",
    "    date.append(np.datetime64(data_fw20_all.index[-t -1], 'D'))\n",
    "    y_actual.append(int(y_test))\n",
    "    predictions.append(prediction[0])\n",
    "    \n",
    "    result = abs(data_fw20_all.iloc[-t - 1]['Close'] - data_fw20_all.iloc[-t - 1]['Open'])\n",
    "    results.append(result if y_test == prediction else -result)\n",
    "\n",
    "accuracy = 0\n",
    "for i in range(len(predictions)):\n",
    "    if y_actual[i] == predictions[i]:\n",
    "        accuracy+=1\n",
    "print('Model summary')\n",
    "print('Accuracy: {}'.format(round(accuracy / len(predictions),4)))\n",
    "print('Result (pts.): {}'.format(sum(results)))\n",
    "print('Average result per 1 session: {}'.format(sum(results) / test_period))\n",
    "print('*'*100)\n",
    "\n",
    "# for i in range(len(predictions)):\n",
    "#     print(date[i], '\\t', 'actual:', y_actual[i], predictions[i], ':prediction', '\\t', 'result:', results[i])"
   ]
  },
  {
   "cell_type": "markdown",
   "metadata": {},
   "source": [
    "### 3. K-Nearest Neighbors"
   ]
  },
  {
   "cell_type": "markdown",
   "metadata": {},
   "source": [
    "After some optimization, the parameter \"number of neighbors\" was set at 200."
   ]
  },
  {
   "cell_type": "code",
   "execution_count": 19,
   "metadata": {},
   "outputs": [
    {
     "name": "stdout",
     "output_type": "stream",
     "text": [
      "Model summary\n",
      "Accuracy: 0.527\n",
      "Result (pts.): 2488.0\n",
      "Average result per 1 session: 1.244\n",
      "****************************************************************************************************\n"
     ]
    }
   ],
   "source": [
    "train_period = 1000\n",
    "test_period = 2000\n",
    "date, predictions, y_actual, pred_proba, results = [], [], [], [], []\n",
    "model = KNeighborsClassifier(n_neighbors = 200)\n",
    "\n",
    "for t in range(test_period):\n",
    "    X_train = data_fw20_all.iloc[(-train_period - t - 1) : (-t - 1)][['Close_ret_-1', 'Volume_ret_-1', \n",
    "                                                                      'OpenInt_ret_-1']]\n",
    "    y_train = data_fw20_all.iloc[(-train_period - t - 1) : (-t - 1)][['FW20_dir_o_c']]\n",
    "    X_test = data_fw20_all.iloc[-t - 1][['Close_ret_-1', 'Volume_ret_-1', 'OpenInt_ret_-1']]\n",
    "    y_test = data_fw20_all.iloc[-t - 1]['FW20_dir_o_c']\n",
    "\n",
    "    model.fit(X_train, y_train)\n",
    "    prediction = model.predict(np.array(X_test).reshape(1,-1))\n",
    "    prediction_proba = model.predict_proba(np.array(X_test).reshape(1,-1))\n",
    "    date.append(np.datetime64(data_fw20_all.index[-t -1], 'D'))\n",
    "    y_actual.append(int(y_test))\n",
    "    predictions.append(prediction[0])\n",
    "    pred_proba.append(prediction_proba)\n",
    "    \n",
    "    result = abs(data_fw20_all.iloc[-t - 1]['Close'] - data_fw20_all.iloc[-t - 1]['Open'])\n",
    "    results.append(result if y_test == prediction else -result)\n",
    "\n",
    "accuracy = 0\n",
    "for i in range(len(predictions)):\n",
    "    if y_actual[i] == predictions[i]:\n",
    "        accuracy+=1\n",
    "print('Model summary')\n",
    "print('Accuracy: {}'.format(round(accuracy / len(predictions),4)))\n",
    "print('Result (pts.): {}'.format(sum(results)))\n",
    "print('Average result per 1 session: {}'.format(sum(results) / test_period))\n",
    "print('*'*100)\n",
    "\n",
    "# for i in range(len(predictions)):\n",
    "#     print(date[i], '\\t', 'actual:', y_actual[i], predictions[i], ':prediction', 'preds_proba:', pred_proba[i],\n",
    "#          '\\t', 'result:', results[i])"
   ]
  },
  {
   "cell_type": "markdown",
   "metadata": {},
   "source": [
    "### 4. Random Forest Classifier"
   ]
  },
  {
   "cell_type": "markdown",
   "metadata": {},
   "source": [
    "Number of trees in each forest set at 100, max depth of each tree set at 3."
   ]
  },
  {
   "cell_type": "code",
   "execution_count": 20,
   "metadata": {},
   "outputs": [
    {
     "name": "stdout",
     "output_type": "stream",
     "text": [
      "Model summary\n",
      "Accuracy: 0.538\n",
      "Result (pts.): 2878.0\n",
      "Average result per 1 session: 1.439\n",
      "****************************************************************************************************\n"
     ]
    }
   ],
   "source": [
    "train_period = 1000\n",
    "test_period = 2000\n",
    "date, predictions, y_actual, pred_proba, results = [], [], [], [], []\n",
    "model = RandomForestClassifier(n_estimators=100, max_depth=3)\n",
    "\n",
    "for t in range(test_period):\n",
    "    X_train = data_fw20_all.iloc[(-train_period - t - 1) : (-t - 1)][['Close_ret_-1', 'Volume_ret_-1', \n",
    "                                                                      'OpenInt_ret_-1']]\n",
    "    y_train = data_fw20_all.iloc[(-train_period - t - 1) : (-t - 1)][['FW20_dir_o_c']]\n",
    "    X_test = data_fw20_all.iloc[-t - 1][['Close_ret_-1', 'Volume_ret_-1', 'OpenInt_ret_-1']]\n",
    "    y_test = data_fw20_all.iloc[-t - 1]['FW20_dir_o_c']\n",
    "\n",
    "    model.fit(X_train, y_train)\n",
    "    prediction = model.predict(np.array(X_test).reshape(1,-1))\n",
    "    prediction_proba = model.predict_proba(np.array(X_test).reshape(1,-1))\n",
    "    date.append(np.datetime64(data_fw20_all.index[-t -1], 'D'))\n",
    "    y_actual.append(int(y_test))\n",
    "    predictions.append(prediction[0])\n",
    "    pred_proba.append(prediction_proba)\n",
    "    \n",
    "    result = abs(data_fw20_all.iloc[-t - 1]['Close'] - data_fw20_all.iloc[-t - 1]['Open'])\n",
    "    results.append(result if y_test == prediction else -result)\n",
    "\n",
    "accuracy = 0\n",
    "for i in range(len(predictions)):\n",
    "    if y_actual[i] == predictions[i]:\n",
    "        accuracy+=1\n",
    "print('Model summary')\n",
    "print('Accuracy: {}'.format(round(accuracy / len(predictions),4)))\n",
    "print('Result (pts.): {}'.format(sum(results)))\n",
    "print('Average result per 1 session: {}'.format(sum(results) / test_period))\n",
    "print('*'*100)\n",
    "\n",
    "# for i in range(len(predictions)):\n",
    "#     print(date[i], '\\t', 'actual:', y_actual[i], predictions[i], ':prediction', 'preds_proba:', pred_proba[i],\n",
    "#          '\\t', 'result:', results[i])"
   ]
  },
  {
   "cell_type": "markdown",
   "metadata": {},
   "source": [
    "### 5. AdaBoost Classifier (with Decision Tree)"
   ]
  },
  {
   "cell_type": "markdown",
   "metadata": {},
   "source": [
    "Number of estimators set at 50, max depth of each tree set at 1 (\"decision stump\")."
   ]
  },
  {
   "cell_type": "code",
   "execution_count": 21,
   "metadata": {},
   "outputs": [
    {
     "name": "stdout",
     "output_type": "stream",
     "text": [
      "Model summary\n",
      "Accuracy: 0.514\n",
      "Result (pts.): 332.0\n",
      "Average result per 1 session: 0.166\n",
      "****************************************************************************************************\n"
     ]
    }
   ],
   "source": [
    "train_period = 1000\n",
    "test_period = 2000\n",
    "date, predictions, y_actual, pred_proba, results = [], [], [], [], []\n",
    "model = AdaBoostClassifier(DecisionTreeClassifier(max_depth=1), n_estimators=50)\n",
    "\n",
    "for t in range(test_period):\n",
    "    X_train = data_fw20_all.iloc[(-train_period - t - 1) : (-t - 1)][['Close_ret_-1', 'Volume_ret_-1', \n",
    "                                                                      'OpenInt_ret_-1']]\n",
    "    y_train = data_fw20_all.iloc[(-train_period - t - 1) : (-t - 1)][['FW20_dir_o_c']]\n",
    "    X_test = data_fw20_all.iloc[-t - 1][['Close_ret_-1', 'Volume_ret_-1', 'OpenInt_ret_-1']]\n",
    "    y_test = data_fw20_all.iloc[-t - 1]['FW20_dir_o_c']\n",
    "\n",
    "    model.fit(X_train, y_train)\n",
    "    prediction = model.predict(np.array(X_test).reshape(1,-1))\n",
    "    prediction_proba = model.predict_proba(np.array(X_test).reshape(1,-1))\n",
    "    date.append(np.datetime64(data_fw20_all.index[-t -1], 'D'))\n",
    "    y_actual.append(int(y_test))\n",
    "    predictions.append(prediction[0])\n",
    "    pred_proba.append(prediction_proba)\n",
    "\n",
    "    result = abs(data_fw20_all.iloc[-t - 1]['Close'] - data_fw20_all.iloc[-t - 1]['Open'])\n",
    "    results.append(result if y_test == prediction else -result)\n",
    "\n",
    "accuracy = 0\n",
    "for i in range(len(predictions)):\n",
    "    if y_actual[i] == predictions[i]:\n",
    "        accuracy+=1\n",
    "print('Model summary')\n",
    "print('Accuracy: {}'.format(round(accuracy / len(predictions),4)))\n",
    "print('Result (pts.): {}'.format(sum(results)))\n",
    "print('Average result per 1 session: {}'.format(sum(results) / test_period))\n",
    "print('*'*100)\n",
    "\n",
    "# for i in range(len(predictions)):\n",
    "#     print(date[i], '\\t', 'actual:', y_actual[i], predictions[i], ':prediction', 'preds_proba:', pred_proba[i],\n",
    "#          '\\t', 'result:', results[i])"
   ]
  },
  {
   "cell_type": "markdown",
   "metadata": {},
   "source": [
    "### 6. Voting Classifier"
   ]
  },
  {
   "cell_type": "markdown",
   "metadata": {},
   "source": [
    "Finally, there was Voting Classifier used for 3 estimators with best results - Logistic Regression, KNeighbors and Random Forest. Majority rule for voting was applied."
   ]
  },
  {
   "cell_type": "code",
   "execution_count": 22,
   "metadata": {},
   "outputs": [
    {
     "name": "stdout",
     "output_type": "stream",
     "text": [
      "Model summary\n",
      "Accuracy: 0.5335\n",
      "Result (pts.): 2620.0\n",
      "Average result per 1 session: 1.31\n",
      "****************************************************************************************************\n"
     ]
    }
   ],
   "source": [
    "train_period = 1000\n",
    "test_period = 2000\n",
    "date, predictions, y_actual, results = [], [], [], []\n",
    "\n",
    "lr_clf = LogisticRegression(C=0.001)\n",
    "knn_clf = KNeighborsClassifier(n_neighbors=200)\n",
    "rfc_clf = RandomForestClassifier(n_estimators=100, max_depth=3)\n",
    "voting_clf = VotingClassifier(\n",
    "    estimators = [('lr', lr_clf),('knn_clf', knn_clf),('rfc_clf', rfc_clf)],\n",
    "    voting = 'hard')\n",
    "\n",
    "for t in range(test_period):\n",
    "    X_train = data_fw20_all.iloc[(-train_period - t - 1) : (-t - 1)][['Close_ret_-1', 'Volume_ret_-1', \n",
    "                                                                      'OpenInt_ret_-1']]\n",
    "    y_train = data_fw20_all.iloc[(-train_period - t - 1) : (-t - 1)][['FW20_dir_o_c']]\n",
    "    X_test = data_fw20_all.iloc[-t - 1][['Close_ret_-1', 'Volume_ret_-1', 'OpenInt_ret_-1']]\n",
    "    y_test = data_fw20_all.iloc[-t - 1]['FW20_dir_o_c']\n",
    "\n",
    "    voting_clf.fit(X_train, y_train)\n",
    "    prediction = voting_clf.predict(np.array(X_test).reshape(1,-1))\n",
    "    date.append(np.datetime64(data_fw20_all.index[-t -1], 'D'))\n",
    "    y_actual.append(int(y_test))\n",
    "    predictions.append(prediction[0])\n",
    "    \n",
    "    result = abs(data_fw20_all.iloc[-t - 1]['Close'] - data_fw20_all.iloc[-t - 1]['Open'])\n",
    "    results.append(result if y_test == prediction else -result)\n",
    "\n",
    "accuracy = 0\n",
    "for i in range(len(predictions)):\n",
    "    if y_actual[i] == predictions[i]:\n",
    "        accuracy+=1\n",
    "print('Model summary')\n",
    "print('Accuracy: {}'.format(round(accuracy / len(predictions),4)))\n",
    "print('Result (pts.): {}'.format(sum(results)))\n",
    "print('Average result per 1 session: {}'.format(sum(results) / test_period))\n",
    "print('*'*100)\n",
    "\n",
    "# for i in range(len(predictions)):\n",
    "#     print(date[i], '\\t', 'actual:', y_actual[i], predictions[i], ':prediction', '\\t', 'result:', results[i])"
   ]
  },
  {
   "cell_type": "markdown",
   "metadata": {},
   "source": [
    "## Conclusions"
   ]
  },
  {
   "cell_type": "markdown",
   "metadata": {},
   "source": [
    "Using simple classifiers may give some slight advantage over the market. Results obtained in the analysis show that all of the tested algorithms have accuracy over 50%. The highest accuracy was obtained for Random Forest (about 54%). Unfortunately, Voting Classifier didn't boost the results compared to best single estimator (Random Forest).\n",
    "\n",
    "Suggestions for further analysis:\n",
    "- wider interval (week or even month) - daytrading implies high transaction costs,\n",
    "- application of other predictors - for example rates of return from other correlated markets (SPX, NDX, DAX, NKX),\n",
    "- reducing the number of signals by selecting predictions with highest probability."
   ]
  }
 ],
 "metadata": {
  "kernelspec": {
   "display_name": "Python 3",
   "language": "python",
   "name": "python3"
  },
  "language_info": {
   "codemirror_mode": {
    "name": "ipython",
    "version": 3
   },
   "file_extension": ".py",
   "mimetype": "text/x-python",
   "name": "python",
   "nbconvert_exporter": "python",
   "pygments_lexer": "ipython3",
   "version": "3.6.5"
  }
 },
 "nbformat": 4,
 "nbformat_minor": 2
}
